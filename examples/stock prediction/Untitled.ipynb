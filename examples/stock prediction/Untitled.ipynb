{
 "cells": [
  {
   "cell_type": "code",
   "execution_count": 1,
   "metadata": {},
   "outputs": [],
   "source": [
    "using Keras\n",
    "using Flux\n",
    "using PyCall\n",
    "@pyimport numpy"
   ]
  },
  {
   "cell_type": "code",
   "execution_count": 2,
   "metadata": {},
   "outputs": [
    {
     "data": {
      "text/plain": [
       "351-element Array{Float32,1}:\n",
       " 0.604167\n",
       " 0.56686 \n",
       " 0.601744\n",
       " 0.609254\n",
       " 0.605862\n",
       " 0.59593 \n",
       " 0.583818\n",
       " 0.557413\n",
       " 0.52907 \n",
       " 0.489826\n",
       " 0.500242\n",
       " 0.519138\n",
       " 0.547481\n",
       " ⋮       \n",
       " 0.73595 \n",
       " 0.722384\n",
       " 0.661822\n",
       " 0.666667\n",
       " 0.662064\n",
       " 0.67999 \n",
       " 0.679748\n",
       " 0.664002\n",
       " 0.667878\n",
       " 0.674176\n",
       " 0.669574\n",
       " 0.667393"
      ]
     },
     "execution_count": 2,
     "metadata": {},
     "output_type": "execute_result"
    }
   ],
   "source": [
    "x = numpy.load(\"testX.npy\");\n",
    "y = numpy.load(\"testY.npy\")"
   ]
  },
  {
   "cell_type": "code",
   "execution_count": 3,
   "metadata": {},
   "outputs": [
    {
     "data": {
      "text/plain": [
       "5-element Array{Any,1}:\n",
       " Keras.#69                  \n",
       " IVertex(Dropout(0.2))      \n",
       " :vec                       \n",
       " (Dense(50, 100), Keras.#26)\n",
       " (Dense(100, 1), Keras.#26) "
      ]
     },
     "execution_count": 3,
     "metadata": {},
     "output_type": "execute_result"
    }
   ],
   "source": [
    "model = Keras.load(\"structure.json\", \"weights.h5\")"
   ]
  },
  {
   "cell_type": "code",
   "execution_count": 4,
   "metadata": {},
   "outputs": [
    {
     "name": "stdout",
     "output_type": "stream",
     "text": [
      "here2\n"
     ]
    },
    {
     "data": {
      "text/plain": [
       "1-element Array{Float64,1}:\n",
       " 0.381753"
      ]
     },
     "execution_count": 4,
     "metadata": {},
     "output_type": "execute_result"
    }
   ],
   "source": [
    "model(x[6])"
   ]
  },
  {
   "cell_type": "code",
   "execution_count": 5,
   "metadata": {},
   "outputs": [
    {
     "data": {
      "text/plain": [
       "0.5959302f0"
      ]
     },
     "execution_count": 5,
     "metadata": {},
     "output_type": "execute_result"
    }
   ],
   "source": [
    "y[6]"
   ]
  },
  {
   "cell_type": "code",
   "execution_count": null,
   "metadata": {},
   "outputs": [],
   "source": []
  },
  {
   "cell_type": "code",
   "execution_count": 2,
   "metadata": {},
   "outputs": [
    {
     "data": {
      "text/plain": [
       "6-element Array{Any,1}:\n",
       " Keras.#69             \n",
       " IVertex(Dropout(0.2)) \n",
       " Keras.#68             \n",
       " IVertex(Dropout(0.2)) \n",
       " (Dense(100, 1), :relu)\n",
       " NNlib.relu            "
      ]
     },
     "execution_count": 2,
     "metadata": {},
     "output_type": "execute_result"
    }
   ],
   "source": [
    "m = Keras.load(\"structure.json\", \"weights.h5\")"
   ]
  },
  {
   "cell_type": "code",
   "execution_count": 3,
   "metadata": {},
   "outputs": [
    {
     "name": "stdout",
     "output_type": "stream",
     "text": [
      "here2\n",
      "herer1\n",
      "Recur(LSTMCell(50, 100))\n",
      "0.021934273588062977\n",
      "-0.021231491757906337\n",
      "0.024679582052263914\n",
      "0.025149378813045943\n",
      "0.022541631334319343\n",
      "-0.015891784930393303\n",
      "-0.014726041231524942\n",
      "-0.009006341751924897\n",
      "-0.018215179427363715\n",
      "0.013048268190173108\n",
      "0.0\n",
      "-0.026107258991609164\n",
      "0.018739970382974796\n",
      "-0.014324100548363316\n",
      "0.0\n",
      "-0.0\n",
      "-0.0\n",
      "-0.0\n",
      "0.02491035284915484\n",
      "-0.018026701940908187\n",
      "0.016847169412120326\n",
      "-0.02684828827700215\n",
      "0.020643746533775813\n",
      "0.018402158871534013\n",
      "-0.0\n",
      "0.014619677972481213\n",
      "0.015442532122406824\n",
      "-0.014380177726059668\n",
      "-0.014471246125702022\n",
      "0.02262968776883311\n",
      "-0.013179542626810625\n",
      "-0.019221204828963653\n",
      "0.031159292557934853\n",
      "0.01583744802983212\n",
      "-0.0\n",
      "0.015728373737766848\n",
      "0.027289564123939496\n",
      "0.0\n",
      "0.026607241832991693\n",
      "-0.0184240566191968\n",
      "0.009407985475225528\n",
      "0.0\n",
      "0.014163045876111708\n",
      "0.018726083077973844\n",
      "0.0013603095012994304\n",
      "-0.01887885242818415\n",
      "-0.0\n",
      "0.021911764105509636\n",
      "0.02618146198248244\n",
      "0.0\n"
     ]
    },
    {
     "name": "stderr",
     "output_type": "stream",
     "text": [
      "\u001b[1m\u001b[33mWARNING: \u001b[39m\u001b[22m\u001b[33mmax(x::AbstractArray{T1}, y::AbstractArray{T2}) where {T1 <: Real, T2 <: Real} is deprecated, use max.(x, y) instead.\u001b[39m\n",
      "Stacktrace:\n",
      " [1] \u001b[1mdepwarn\u001b[22m\u001b[22m\u001b[1m(\u001b[22m\u001b[22m::String, ::Symbol\u001b[1m)\u001b[22m\u001b[22m at \u001b[1m./deprecated.jl:70\u001b[22m\u001b[22m\n",
      " [2] \u001b[1mmax\u001b[22m\u001b[22m\u001b[1m(\u001b[22m\u001b[22m::Array{Float64,2}, ::Array{Float64,2}\u001b[1m)\u001b[22m\u001b[22m at \u001b[1m./deprecated.jl:57\u001b[22m\u001b[22m\n",
      " [3] \u001b[1mrelu\u001b[22m\u001b[22m\u001b[1m(\u001b[22m\u001b[22m::Array{Float64,2}\u001b[1m)\u001b[22m\u001b[22m at \u001b[1m/home/ayush99/.julia/v0.6/NNlib.jl/src/activation.jl:48\u001b[22m\u001b[22m\n",
      " [4] \u001b[1mmapfoldl_impl\u001b[22m\u001b[22m\u001b[1m(\u001b[22m\u001b[22m::Base.#identity, ::Flux.##81#82, ::Array{Float64,2}, ::Array{Any,1}, ::Int64\u001b[1m)\u001b[22m\u001b[22m at \u001b[1m./reduce.jl:46\u001b[22m\u001b[22m\n",
      " [5] \u001b[1m(::Flux.Chain)\u001b[22m\u001b[22m\u001b[1m(\u001b[22m\u001b[22m::Array{Float64,2}\u001b[1m)\u001b[22m\u001b[22m at \u001b[1m/home/ayush99/.julia/v0.6/Flux.jl/src/layers/basic.jl:31\u001b[22m\u001b[22m\n",
      " [6] \u001b[1m(::Array{Any,1})\u001b[22m\u001b[22m\u001b[1m(\u001b[22m\u001b[22m::Array{Float64,1}\u001b[1m)\u001b[22m\u001b[22m at \u001b[1m/home/ayush99/.julia/v0.6/Keras.jl/src/graph.jl:90\u001b[22m\u001b[22m\n",
      " [7] \u001b[1minclude_string\u001b[22m\u001b[22m\u001b[1m(\u001b[22m\u001b[22m::String, ::String\u001b[1m)\u001b[22m\u001b[22m at \u001b[1m./loading.jl:522\u001b[22m\u001b[22m\n",
      " [8] \u001b[1minclude_string\u001b[22m\u001b[22m\u001b[1m(\u001b[22m\u001b[22m::Module, ::String, ::String\u001b[1m)\u001b[22m\u001b[22m at \u001b[1m/home/ayush99/.julia/v0.6/Compat/src/Compat.jl:88\u001b[22m\u001b[22m\n",
      " [9] \u001b[1mexecute_request\u001b[22m\u001b[22m\u001b[1m(\u001b[22m\u001b[22m::ZMQ.Socket, ::IJulia.Msg\u001b[1m)\u001b[22m\u001b[22m at \u001b[1m/home/ayush99/.julia/v0.6/IJulia/src/execute_request.jl:158\u001b[22m\u001b[22m\n",
      " [10] \u001b[1m(::Compat.#inner#18{Array{Any,1},IJulia.#execute_request,Tuple{ZMQ.Socket,IJulia.Msg}})\u001b[22m\u001b[22m\u001b[1m(\u001b[22m\u001b[22m\u001b[1m)\u001b[22m\u001b[22m at \u001b[1m/home/ayush99/.julia/v0.6/Compat/src/Compat.jl:378\u001b[22m\u001b[22m\n",
      " [11] \u001b[1meventloop\u001b[22m\u001b[22m\u001b[1m(\u001b[22m\u001b[22m::ZMQ.Socket\u001b[1m)\u001b[22m\u001b[22m at \u001b[1m/home/ayush99/.julia/v0.6/IJulia/src/eventloop.jl:8\u001b[22m\u001b[22m\n",
      " [12] \u001b[1m(::IJulia.##14#17)\u001b[22m\u001b[22m\u001b[1m(\u001b[22m\u001b[22m\u001b[1m)\u001b[22m\u001b[22m at \u001b[1m./task.jl:335\u001b[22m\u001b[22m\n",
      "while loading In[3], in expression starting on line 1\n"
     ]
    },
    {
     "data": {
      "text/plain": [
       "1×50 Array{Float64,2}:\n",
       " 0.122943  0.10822  0.121937  0.117461  …  0.120462  0.124934  0.122798"
      ]
     },
     "execution_count": 3,
     "metadata": {},
     "output_type": "execute_result"
    }
   ],
   "source": [
    "m(rand(1))"
   ]
  },
  {
   "cell_type": "code",
   "execution_count": null,
   "metadata": {},
   "outputs": [],
   "source": []
  }
 ],
 "metadata": {
  "kernelspec": {
   "display_name": "Julia 0.6.1",
   "language": "julia",
   "name": "julia-0.6"
  },
  "language_info": {
   "file_extension": ".jl",
   "mimetype": "application/julia",
   "name": "julia",
   "version": "0.6.1"
  }
 },
 "nbformat": 4,
 "nbformat_minor": 2
}
